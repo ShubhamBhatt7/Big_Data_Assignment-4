{
 "cells": [
  {
   "cell_type": "code",
   "execution_count": 24,
   "id": "66a0916a",
   "metadata": {},
   "outputs": [
    {
     "name": "stderr",
     "output_type": "stream",
     "text": [
      "Matplotlib is building the font cache; this may take a moment.\n"
     ]
    }
   ],
   "source": [
    "import pandas as pd\n",
    "import numpy as np\n",
    "import seaborn as sns"
   ]
  },
  {
   "cell_type": "code",
   "execution_count": 25,
   "id": "861689f9",
   "metadata": {},
   "outputs": [
    {
     "data": {
      "text/html": [
       "<div>\n",
       "<style scoped>\n",
       "    .dataframe tbody tr th:only-of-type {\n",
       "        vertical-align: middle;\n",
       "    }\n",
       "\n",
       "    .dataframe tbody tr th {\n",
       "        vertical-align: top;\n",
       "    }\n",
       "\n",
       "    .dataframe thead th {\n",
       "        text-align: right;\n",
       "    }\n",
       "</style>\n",
       "<table border=\"1\" class=\"dataframe\">\n",
       "  <thead>\n",
       "    <tr style=\"text-align: right;\">\n",
       "      <th></th>\n",
       "      <th>id</th>\n",
       "      <th>chart_date</th>\n",
       "      <th>target_rank</th>\n",
       "      <th>actual_rank</th>\n",
       "      <th>title</th>\n",
       "      <th>artist</th>\n",
       "      <th>peak_rank</th>\n",
       "      <th>weeks_on_chart</th>\n",
       "    </tr>\n",
       "  </thead>\n",
       "  <tbody>\n",
       "    <tr>\n",
       "      <th>0</th>\n",
       "      <td>1</td>\n",
       "      <td>1987-07-11</td>\n",
       "      <td>82</td>\n",
       "      <td>NaN</td>\n",
       "      <td>NaN</td>\n",
       "      <td>NaN</td>\n",
       "      <td>NaN</td>\n",
       "      <td>NaN</td>\n",
       "    </tr>\n",
       "    <tr>\n",
       "      <th>1</th>\n",
       "      <td>2</td>\n",
       "      <td>1973-08-04</td>\n",
       "      <td>14</td>\n",
       "      <td>NaN</td>\n",
       "      <td>NaN</td>\n",
       "      <td>NaN</td>\n",
       "      <td>NaN</td>\n",
       "      <td>NaN</td>\n",
       "    </tr>\n",
       "    <tr>\n",
       "      <th>2</th>\n",
       "      <td>3</td>\n",
       "      <td>1961-07-03</td>\n",
       "      <td>56</td>\n",
       "      <td>57.0</td>\n",
       "      <td>I Don't Mind</td>\n",
       "      <td>James Brown</td>\n",
       "      <td>47.0</td>\n",
       "      <td>8.0</td>\n",
       "    </tr>\n",
       "    <tr>\n",
       "      <th>3</th>\n",
       "      <td>4</td>\n",
       "      <td>1971-08-07</td>\n",
       "      <td>32</td>\n",
       "      <td>31.0</td>\n",
       "      <td>You've Got A Friend</td>\n",
       "      <td>Roberta Flack,Donny Hathaway</td>\n",
       "      <td>29.0</td>\n",
       "      <td>12.0</td>\n",
       "    </tr>\n",
       "    <tr>\n",
       "      <th>4</th>\n",
       "      <td>5</td>\n",
       "      <td>1976-07-10</td>\n",
       "      <td>51</td>\n",
       "      <td>NaN</td>\n",
       "      <td>NaN</td>\n",
       "      <td>NaN</td>\n",
       "      <td>NaN</td>\n",
       "      <td>NaN</td>\n",
       "    </tr>\n",
       "    <tr>\n",
       "      <th>...</th>\n",
       "      <td>...</td>\n",
       "      <td>...</td>\n",
       "      <td>...</td>\n",
       "      <td>...</td>\n",
       "      <td>...</td>\n",
       "      <td>...</td>\n",
       "      <td>...</td>\n",
       "      <td>...</td>\n",
       "    </tr>\n",
       "    <tr>\n",
       "      <th>1295</th>\n",
       "      <td>1296</td>\n",
       "      <td>1983-07-02</td>\n",
       "      <td>34</td>\n",
       "      <td>36.0</td>\n",
       "      <td>White Wedding</td>\n",
       "      <td>Billy Idol</td>\n",
       "      <td>36.0</td>\n",
       "      <td>13.0</td>\n",
       "    </tr>\n",
       "    <tr>\n",
       "      <th>1296</th>\n",
       "      <td>1297</td>\n",
       "      <td>1961-03-13</td>\n",
       "      <td>7</td>\n",
       "      <td>9.0</td>\n",
       "      <td>Ebony Eyes</td>\n",
       "      <td>The Everly Brothers</td>\n",
       "      <td>8.0</td>\n",
       "      <td>12.0</td>\n",
       "    </tr>\n",
       "    <tr>\n",
       "      <th>1297</th>\n",
       "      <td>1298</td>\n",
       "      <td>1988-02-20</td>\n",
       "      <td>52</td>\n",
       "      <td>NaN</td>\n",
       "      <td>NaN</td>\n",
       "      <td>NaN</td>\n",
       "      <td>NaN</td>\n",
       "      <td>NaN</td>\n",
       "    </tr>\n",
       "    <tr>\n",
       "      <th>1298</th>\n",
       "      <td>1299</td>\n",
       "      <td>1969-05-31</td>\n",
       "      <td>100</td>\n",
       "      <td>NaN</td>\n",
       "      <td>NaN</td>\n",
       "      <td>NaN</td>\n",
       "      <td>NaN</td>\n",
       "      <td>NaN</td>\n",
       "    </tr>\n",
       "    <tr>\n",
       "      <th>1299</th>\n",
       "      <td>1300</td>\n",
       "      <td>1991-06-29</td>\n",
       "      <td>84</td>\n",
       "      <td>83.0</td>\n",
       "      <td>Where The Streets Have No Name</td>\n",
       "      <td>Pet Shop Boys</td>\n",
       "      <td>72.0</td>\n",
       "      <td>7.0</td>\n",
       "    </tr>\n",
       "  </tbody>\n",
       "</table>\n",
       "<p>1300 rows × 8 columns</p>\n",
       "</div>"
      ],
      "text/plain": [
       "        id  chart_date  target_rank  actual_rank  \\\n",
       "0        1  1987-07-11           82          NaN   \n",
       "1        2  1973-08-04           14          NaN   \n",
       "2        3  1961-07-03           56         57.0   \n",
       "3        4  1971-08-07           32         31.0   \n",
       "4        5  1976-07-10           51          NaN   \n",
       "...    ...         ...          ...          ...   \n",
       "1295  1296  1983-07-02           34         36.0   \n",
       "1296  1297  1961-03-13            7          9.0   \n",
       "1297  1298  1988-02-20           52          NaN   \n",
       "1298  1299  1969-05-31          100          NaN   \n",
       "1299  1300  1991-06-29           84         83.0   \n",
       "\n",
       "                               title                        artist  peak_rank  \\\n",
       "0                                NaN                           NaN        NaN   \n",
       "1                                NaN                           NaN        NaN   \n",
       "2                       I Don't Mind                   James Brown       47.0   \n",
       "3                You've Got A Friend  Roberta Flack,Donny Hathaway       29.0   \n",
       "4                                NaN                           NaN        NaN   \n",
       "...                              ...                           ...        ...   \n",
       "1295                   White Wedding                    Billy Idol       36.0   \n",
       "1296                      Ebony Eyes           The Everly Brothers        8.0   \n",
       "1297                             NaN                           NaN        NaN   \n",
       "1298                             NaN                           NaN        NaN   \n",
       "1299  Where The Streets Have No Name                 Pet Shop Boys       72.0   \n",
       "\n",
       "      weeks_on_chart  \n",
       "0                NaN  \n",
       "1                NaN  \n",
       "2                8.0  \n",
       "3               12.0  \n",
       "4                NaN  \n",
       "...              ...  \n",
       "1295            13.0  \n",
       "1296            12.0  \n",
       "1297             NaN  \n",
       "1298             NaN  \n",
       "1299             7.0  \n",
       "\n",
       "[1300 rows x 8 columns]"
      ]
     },
     "execution_count": 25,
     "metadata": {},
     "output_type": "execute_result"
    }
   ],
   "source": [
    "url = \"https://www.dropbox.com/s/o0olz0uwl9z9stb/billboard-2.0-index.csv?dl=1\"\n",
    "data = pd.read_csv(url)\n",
    "data"
   ]
  },
  {
   "cell_type": "code",
   "execution_count": 3,
   "id": "ad881fe6",
   "metadata": {},
   "outputs": [],
   "source": [
    "data.to_csv(\"Billboard.csv\")"
   ]
  },
  {
   "cell_type": "code",
   "execution_count": 4,
   "id": "cce59ba6",
   "metadata": {},
   "outputs": [],
   "source": [
    "import pandas as pd\n",
    "\n",
    "df = pd.read_csv('Billboard.csv')\n"
   ]
  },
  {
   "cell_type": "code",
   "execution_count": 6,
   "id": "2ef8d72a",
   "metadata": {},
   "outputs": [
    {
     "data": {
      "text/plain": [
       "Index(['Unnamed: 0', 'id', 'chart_date', 'target_rank', 'actual_rank', 'title',\n",
       "       'artist', 'peak_rank', 'weeks_on_chart'],\n",
       "      dtype='object')"
      ]
     },
     "execution_count": 6,
     "metadata": {},
     "output_type": "execute_result"
    }
   ],
   "source": [
    "df.columns"
   ]
  },
  {
   "cell_type": "code",
   "execution_count": 9,
   "id": "f1298593",
   "metadata": {},
   "outputs": [
    {
     "data": {
      "text/plain": [
       "(1300, 9)"
      ]
     },
     "execution_count": 9,
     "metadata": {},
     "output_type": "execute_result"
    }
   ],
   "source": [
    "df.shape"
   ]
  },
  {
   "cell_type": "code",
   "execution_count": 10,
   "id": "e116f6db",
   "metadata": {},
   "outputs": [
    {
     "name": "stdout",
     "output_type": "stream",
     "text": [
      "<class 'pandas.core.frame.DataFrame'>\n",
      "RangeIndex: 1300 entries, 0 to 1299\n",
      "Data columns (total 9 columns):\n",
      " #   Column          Non-Null Count  Dtype  \n",
      "---  ------          --------------  -----  \n",
      " 0   Unnamed: 0      1300 non-null   int64  \n",
      " 1   id              1300 non-null   int64  \n",
      " 2   chart_date      1300 non-null   object \n",
      " 3   target_rank     1300 non-null   int64  \n",
      " 4   actual_rank     890 non-null    float64\n",
      " 5   title           890 non-null    object \n",
      " 6   artist          890 non-null    object \n",
      " 7   peak_rank       890 non-null    float64\n",
      " 8   weeks_on_chart  890 non-null    float64\n",
      "dtypes: float64(3), int64(3), object(3)\n",
      "memory usage: 91.5+ KB\n"
     ]
    }
   ],
   "source": [
    "df.info()"
   ]
  },
  {
   "cell_type": "code",
   "execution_count": 11,
   "id": "cf0e2dc2",
   "metadata": {},
   "outputs": [
    {
     "data": {
      "text/plain": [
       "count           1300\n",
       "unique           910\n",
       "top       1980-03-08\n",
       "freq               6\n",
       "Name: chart_date, dtype: object"
      ]
     },
     "execution_count": 11,
     "metadata": {},
     "output_type": "execute_result"
    }
   ],
   "source": [
    "df['chart_date'].describe()"
   ]
  },
  {
   "cell_type": "code",
   "execution_count": 12,
   "id": "c44643cb",
   "metadata": {},
   "outputs": [
    {
     "data": {
      "text/plain": [
       "count           890\n",
       "unique          732\n",
       "top       Last Kiss\n",
       "freq              5\n",
       "Name: title, dtype: object"
      ]
     },
     "execution_count": 12,
     "metadata": {},
     "output_type": "execute_result"
    }
   ],
   "source": [
    "df['title'].describe()"
   ]
  },
  {
   "cell_type": "code",
   "execution_count": 13,
   "id": "2946821c",
   "metadata": {},
   "outputs": [
    {
     "data": {
      "text/plain": [
       "count               890\n",
       "unique              420\n",
       "top       Elvis Presley\n",
       "freq                 20\n",
       "Name: artist, dtype: object"
      ]
     },
     "execution_count": 13,
     "metadata": {},
     "output_type": "execute_result"
    }
   ],
   "source": [
    "df['artist'].describe()"
   ]
  },
  {
   "cell_type": "code",
   "execution_count": 14,
   "id": "305a1b17",
   "metadata": {},
   "outputs": [
    {
     "data": {
      "text/html": [
       "<div>\n",
       "<style scoped>\n",
       "    .dataframe tbody tr th:only-of-type {\n",
       "        vertical-align: middle;\n",
       "    }\n",
       "\n",
       "    .dataframe tbody tr th {\n",
       "        vertical-align: top;\n",
       "    }\n",
       "\n",
       "    .dataframe thead th {\n",
       "        text-align: right;\n",
       "    }\n",
       "</style>\n",
       "<table border=\"1\" class=\"dataframe\">\n",
       "  <thead>\n",
       "    <tr style=\"text-align: right;\">\n",
       "      <th></th>\n",
       "      <th>Unnamed: 0</th>\n",
       "      <th>id</th>\n",
       "      <th>target_rank</th>\n",
       "      <th>actual_rank</th>\n",
       "      <th>peak_rank</th>\n",
       "      <th>weeks_on_chart</th>\n",
       "    </tr>\n",
       "  </thead>\n",
       "  <tbody>\n",
       "    <tr>\n",
       "      <th>count</th>\n",
       "      <td>1300.000000</td>\n",
       "      <td>1300.000000</td>\n",
       "      <td>1300.000000</td>\n",
       "      <td>890.000000</td>\n",
       "      <td>890.000000</td>\n",
       "      <td>890.000000</td>\n",
       "    </tr>\n",
       "    <tr>\n",
       "      <th>mean</th>\n",
       "      <td>649.500000</td>\n",
       "      <td>650.500000</td>\n",
       "      <td>50.356154</td>\n",
       "      <td>45.356180</td>\n",
       "      <td>20.444944</td>\n",
       "      <td>15.143820</td>\n",
       "    </tr>\n",
       "    <tr>\n",
       "      <th>std</th>\n",
       "      <td>375.421985</td>\n",
       "      <td>375.421985</td>\n",
       "      <td>28.203376</td>\n",
       "      <td>27.847772</td>\n",
       "      <td>21.997950</td>\n",
       "      <td>6.231889</td>\n",
       "    </tr>\n",
       "    <tr>\n",
       "      <th>min</th>\n",
       "      <td>0.000000</td>\n",
       "      <td>1.000000</td>\n",
       "      <td>1.000000</td>\n",
       "      <td>1.000000</td>\n",
       "      <td>1.000000</td>\n",
       "      <td>1.000000</td>\n",
       "    </tr>\n",
       "    <tr>\n",
       "      <th>25%</th>\n",
       "      <td>324.750000</td>\n",
       "      <td>325.750000</td>\n",
       "      <td>26.000000</td>\n",
       "      <td>22.000000</td>\n",
       "      <td>3.000000</td>\n",
       "      <td>11.000000</td>\n",
       "    </tr>\n",
       "    <tr>\n",
       "      <th>50%</th>\n",
       "      <td>649.500000</td>\n",
       "      <td>650.500000</td>\n",
       "      <td>50.000000</td>\n",
       "      <td>42.000000</td>\n",
       "      <td>12.000000</td>\n",
       "      <td>14.000000</td>\n",
       "    </tr>\n",
       "    <tr>\n",
       "      <th>75%</th>\n",
       "      <td>974.250000</td>\n",
       "      <td>975.250000</td>\n",
       "      <td>75.000000</td>\n",
       "      <td>67.000000</td>\n",
       "      <td>32.750000</td>\n",
       "      <td>19.000000</td>\n",
       "    </tr>\n",
       "    <tr>\n",
       "      <th>max</th>\n",
       "      <td>1299.000000</td>\n",
       "      <td>1300.000000</td>\n",
       "      <td>100.000000</td>\n",
       "      <td>100.000000</td>\n",
       "      <td>100.000000</td>\n",
       "      <td>44.000000</td>\n",
       "    </tr>\n",
       "  </tbody>\n",
       "</table>\n",
       "</div>"
      ],
      "text/plain": [
       "        Unnamed: 0           id  target_rank  actual_rank   peak_rank  \\\n",
       "count  1300.000000  1300.000000  1300.000000   890.000000  890.000000   \n",
       "mean    649.500000   650.500000    50.356154    45.356180   20.444944   \n",
       "std     375.421985   375.421985    28.203376    27.847772   21.997950   \n",
       "min       0.000000     1.000000     1.000000     1.000000    1.000000   \n",
       "25%     324.750000   325.750000    26.000000    22.000000    3.000000   \n",
       "50%     649.500000   650.500000    50.000000    42.000000   12.000000   \n",
       "75%     974.250000   975.250000    75.000000    67.000000   32.750000   \n",
       "max    1299.000000  1300.000000   100.000000   100.000000  100.000000   \n",
       "\n",
       "       weeks_on_chart  \n",
       "count      890.000000  \n",
       "mean        15.143820  \n",
       "std          6.231889  \n",
       "min          1.000000  \n",
       "25%         11.000000  \n",
       "50%         14.000000  \n",
       "75%         19.000000  \n",
       "max         44.000000  "
      ]
     },
     "execution_count": 14,
     "metadata": {},
     "output_type": "execute_result"
    }
   ],
   "source": [
    "df.describe()"
   ]
  },
  {
   "cell_type": "code",
   "execution_count": 17,
   "id": "b159b921",
   "metadata": {},
   "outputs": [
    {
     "data": {
      "text/plain": [
       "chart_date         object\n",
       "target_rank         int64\n",
       "actual_rank       float64\n",
       "title              object\n",
       "artist             object\n",
       "peak_rank         float64\n",
       "weeks_on_chart    float64\n",
       "dtype: object"
      ]
     },
     "execution_count": 17,
     "metadata": {},
     "output_type": "execute_result"
    }
   ],
   "source": [
    "df.dtypes"
   ]
  },
  {
   "cell_type": "code",
   "execution_count": 18,
   "id": "f408ad5b",
   "metadata": {},
   "outputs": [
    {
     "name": "stderr",
     "output_type": "stream",
     "text": [
      "C:\\Users\\user\\AppData\\Local\\Temp/ipykernel_8240/3698961737.py:1: FutureWarning: Dropping of nuisance columns in DataFrame reductions (with 'numeric_only=None') is deprecated; in a future version this will raise TypeError.  Select only valid columns before calling the reduction.\n",
      "  df.mean()\n"
     ]
    },
    {
     "data": {
      "text/plain": [
       "target_rank       50.356154\n",
       "actual_rank       45.356180\n",
       "peak_rank         20.444944\n",
       "weeks_on_chart    15.143820\n",
       "dtype: float64"
      ]
     },
     "execution_count": 18,
     "metadata": {},
     "output_type": "execute_result"
    }
   ],
   "source": [
    "df.mean()"
   ]
  },
  {
   "cell_type": "code",
   "execution_count": 26,
   "id": "5585a8d2",
   "metadata": {},
   "outputs": [
    {
     "data": {
      "text/plain": [
       "<AxesSubplot:xlabel='weeks_on_chart', ylabel='actual_rank'>"
      ]
     },
     "execution_count": 26,
     "metadata": {},
     "output_type": "execute_result"
    },
    {
     "data": {
      "image/png": "[encoded data removed]",
      "text/plain": [
       "<Figure size 432x288 with 1 Axes>"
      ]
     },
     "metadata": {
      "needs_background": "light"
     },
     "output_type": "display_data"
    }
   ],
   "source": [
    "sns.scatterplot(y=\"actual_rank\", x= \"weeks_on_chart\", data =df)"
   ]
  },
  {
   "cell_type": "code",
   "execution_count": 27,
   "id": "15ae3c7a",
   "metadata": {},
   "outputs": [
    {
     "data": {
      "text/plain": [
       "<AxesSubplot:xlabel='peak_rank', ylabel='actual_rank'>"
      ]
     },
     "execution_count": 27,
     "metadata": {},
     "output_type": "execute_result"
    },
    {
     "data": {
      "image/png": "[encoded data removed]",
      "text/plain": [
       "<Figure size 432x288 with 1 Axes>"
      ]
     },
     "metadata": {
      "needs_background": "light"
     },
     "output_type": "display_data"
    }
   ],
   "source": [
    "sns.scatterplot(y=\"actual_rank\", x= \"peak_rank\", data =df)"
   ]
  },
  {
   "cell_type": "code",
   "execution_count": null,
   "id": "455e23c0",
   "metadata": {},
   "outputs": [],
   "source": []
  }
 ],
 "metadata": {
  "kernelspec": {
   "display_name": "Python 3 (ipykernel)",
   "language": "python",
   "name": "python3"
  },
  "language_info": {
   "codemirror_mode": {
    "name": "ipython",
    "version": 3
   },
   "file_extension": ".py",
   "mimetype": "text/x-python",
   "name": "python",
   "nbconvert_exporter": "python",
   "pygments_lexer": "ipython3",
   "version": "3.9.7"
  }
 },
 "nbformat": 4,
 "nbformat_minor": 5
}
